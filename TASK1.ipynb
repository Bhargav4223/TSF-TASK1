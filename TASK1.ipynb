{
 "cells": [
  {
   "cell_type": "markdown",
   "id": "d8e3c4ea",
   "metadata": {},
   "source": [
    "# KURELLA BHARGAV SRI SAI"
    "# Task 01 - Prediction using Supervised ML\n",
    "Prediction of percentage of score of an student based on the no. of study hours."
   ]
  },
  {
   "cell_type": "markdown",
   "id": "4741c0d7",
   "metadata": {},
   "source": [
    "# Importing required libraries"
   ]
  },
  {
   "cell_type": "code",
   "execution_count": 1,
   "id": "3cc93987",
   "metadata": {},
   "outputs": [],
   "source": [
    "import numpy as np\n",
    "import pandas as pd\n",
    "import matplotlib.pyplot as plt\n",
    "import seaborn as sns\n",
    "%matplotlib inline"
   ]
  },
  {
   "cell_type": "markdown",
   "id": "728522c9",
   "metadata": {},
   "source": [
    "# Importing data set"
   ]
  },
  {
   "cell_type": "code",
   "execution_count": 2,
   "id": "721733e8",
   "metadata": {},
   "outputs": [],
   "source": [
    "url=\"http://bit.ly/w-data\"\n",
    "df=pd.read_csv(url)"
   ]
  },
  {
   "cell_type": "code",
   "execution_count": 3,
   "id": "d927dc5c",
   "metadata": {},
   "outputs": [
    {
     "data": {
      "text/html": [
       "<div>\n",
       "<style scoped>\n",
       "    .dataframe tbody tr th:only-of-type {\n",
       "        vertical-align: middle;\n",
       "    }\n",
       "\n",
       "    .dataframe tbody tr th {\n",
       "        vertical-align: top;\n",
       "    }\n",
       "\n",
       "    .dataframe thead th {\n",
       "        text-align: right;\n",
       "    }\n",
       "</style>\n",
       "<table border=\"1\" class=\"dataframe\">\n",
       "  <thead>\n",
       "    <tr style=\"text-align: right;\">\n",
       "      <th></th>\n",
       "      <th>Hours</th>\n",
       "      <th>Scores</th>\n",
       "    </tr>\n",
       "  </thead>\n",
       "  <tbody>\n",
       "    <tr>\n",
       "      <th>0</th>\n",
       "      <td>2.5</td>\n",
       "      <td>21</td>\n",
       "    </tr>\n",
       "    <tr>\n",
       "      <th>1</th>\n",
       "      <td>5.1</td>\n",
       "      <td>47</td>\n",
       "    </tr>\n",
       "    <tr>\n",
       "      <th>2</th>\n",
       "      <td>3.2</td>\n",
       "      <td>27</td>\n",
       "    </tr>\n",
       "    <tr>\n",
       "      <th>3</th>\n",
       "      <td>8.5</td>\n",
       "      <td>75</td>\n",
       "    </tr>\n",
       "    <tr>\n",
       "      <th>4</th>\n",
       "      <td>3.5</td>\n",
       "      <td>30</td>\n",
       "    </tr>\n",
       "  </tbody>\n",
       "</table>\n",
       "</div>"
      ],
      "text/plain": [
       "   Hours  Scores\n",
       "0    2.5      21\n",
       "1    5.1      47\n",
       "2    3.2      27\n",
       "3    8.5      75\n",
       "4    3.5      30"
      ]
     },
     "execution_count": 3,
     "metadata": {},
     "output_type": "execute_result"
    }
   ],
   "source": [
    "df.head()"
   ]
  },
  {
   "cell_type": "code",
   "execution_count": 5,
   "id": "39774016",
   "metadata": {},
   "outputs": [
    {
     "data": {
      "text/plain": [
       "(25, 2)"
      ]
     },
     "execution_count": 5,
     "metadata": {},
     "output_type": "execute_result"
    }
   ],
   "source": [
    "df.shape"
   ]
  },
  {
   "cell_type": "code",
   "execution_count": 6,
   "id": "5cecd351",
   "metadata": {},
   "outputs": [
    {
     "data": {
      "text/html": [
       "<div>\n",
       "<style scoped>\n",
       "    .dataframe tbody tr th:only-of-type {\n",
       "        vertical-align: middle;\n",
       "    }\n",
       "\n",
       "    .dataframe tbody tr th {\n",
       "        vertical-align: top;\n",
       "    }\n",
       "\n",
       "    .dataframe thead th {\n",
       "        text-align: right;\n",
       "    }\n",
       "</style>\n",
       "<table border=\"1\" class=\"dataframe\">\n",
       "  <thead>\n",
       "    <tr style=\"text-align: right;\">\n",
       "      <th></th>\n",
       "      <th>Hours</th>\n",
       "      <th>Scores</th>\n",
       "    </tr>\n",
       "  </thead>\n",
       "  <tbody>\n",
       "    <tr>\n",
       "      <th>count</th>\n",
       "      <td>25.000000</td>\n",
       "      <td>25.000000</td>\n",
       "    </tr>\n",
       "    <tr>\n",
       "      <th>mean</th>\n",
       "      <td>5.012000</td>\n",
       "      <td>51.480000</td>\n",
       "    </tr>\n",
       "    <tr>\n",
       "      <th>std</th>\n",
       "      <td>2.525094</td>\n",
       "      <td>25.286887</td>\n",
       "    </tr>\n",
       "    <tr>\n",
       "      <th>min</th>\n",
       "      <td>1.100000</td>\n",
       "      <td>17.000000</td>\n",
       "    </tr>\n",
       "    <tr>\n",
       "      <th>25%</th>\n",
       "      <td>2.700000</td>\n",
       "      <td>30.000000</td>\n",
       "    </tr>\n",
       "    <tr>\n",
       "      <th>50%</th>\n",
       "      <td>4.800000</td>\n",
       "      <td>47.000000</td>\n",
       "    </tr>\n",
       "    <tr>\n",
       "      <th>75%</th>\n",
       "      <td>7.400000</td>\n",
       "      <td>75.000000</td>\n",
       "    </tr>\n",
       "    <tr>\n",
       "      <th>max</th>\n",
       "      <td>9.200000</td>\n",
       "      <td>95.000000</td>\n",
       "    </tr>\n",
       "  </tbody>\n",
       "</table>\n",
       "</div>"
      ],
      "text/plain": [
       "           Hours     Scores\n",
       "count  25.000000  25.000000\n",
       "mean    5.012000  51.480000\n",
       "std     2.525094  25.286887\n",
       "min     1.100000  17.000000\n",
       "25%     2.700000  30.000000\n",
       "50%     4.800000  47.000000\n",
       "75%     7.400000  75.000000\n",
       "max     9.200000  95.000000"
      ]
     },
     "execution_count": 6,
     "metadata": {},
     "output_type": "execute_result"
    }
   ],
   "source": [
    "df.describe()"
   ]
  },
  {
   "cell_type": "code",
   "execution_count": 7,
   "id": "3f0b1d8c",
   "metadata": {},
   "outputs": [
    {
     "data": {
      "text/plain": [
       "Hours     0\n",
       "Scores    0\n",
       "dtype: int64"
      ]
     },
     "execution_count": 7,
     "metadata": {},
     "output_type": "execute_result"
    }
   ],
   "source": [
    "df.isnull().sum()"
   ]
  },
  {
   "cell_type": "code",
   "execution_count": 8,
   "id": "3a018e3e",
   "metadata": {},
   "outputs": [
    {
     "data": {
      "image/png": "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",
      "text/plain": [
       "<Figure size 432x288 with 1 Axes>"
      ]
     },
     "metadata": {
      "needs_background": "light"
     },
     "output_type": "display_data"
    }
   ],
   "source": [
    "sns.scatterplot(data=df, x='Hours', y='Scores')\n",
    "plt.title(\" Study hours vs Student Percentage\")\n",
    "plt.show()"
   ]
  },
  {
   "cell_type": "markdown",
   "id": "23d34c4b",
   "metadata": {},
   "source": [
    "From the above graph, it is observed that there is a positive linear relationship between number of study hours and student score"
   ]
  },
  {
   "cell_type": "code",
   "execution_count": null,
   "id": "2ca71580",
   "metadata": {},
   "outputs": [],
   "source": [
    "sns.boxplot(df['Hours'])\n",
    "plt.show()"
   ]
  },
  {
   "cell_type": "code",
   "execution_count": 10,
   "id": "3d4b5061",
   "metadata": {},
   "outputs": [
    {
     "data": {
      "image/png": "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",
      "text/plain": [
       "<Figure size 360x360 with 6 Axes>"
      ]
     },
     "metadata": {
      "needs_background": "light"
     },
     "output_type": "display_data"
    }
   ],
   "source": [
    "sns.pairplot(df)\n",
    "plt.show()"
   ]
  },
  {
   "cell_type": "code",
   "execution_count": 11,
   "id": "e651d3dd",
   "metadata": {},
   "outputs": [
    {
     "data": {
      "text/plain": [
       "((25,), (25,))"
      ]
     },
     "execution_count": 11,
     "metadata": {},
     "output_type": "execute_result"
    }
   ],
   "source": [
    "X=df['Hours']\n",
    "y=df['Scores']\n",
    "X.shape, y.shape"
   ]
  },
  {
   "cell_type": "code",
   "execution_count": 12,
   "id": "b24bf4b6",
   "metadata": {},
   "outputs": [],
   "source": [
    "X=np.array(X)\n",
    "y=np.array(y)"
   ]
  },
  {
   "cell_type": "markdown",
   "id": "e1a095aa",
   "metadata": {},
   "source": [
    "# Splitting the data into training  and testing sets."
   ]
  },
  {
   "cell_type": "code",
   "execution_count": 13,
   "id": "5ddab887",
   "metadata": {},
   "outputs": [],
   "source": [
    "from sklearn.model_selection import train_test_split\n",
    "X_train, X_test, y_train, y_test = train_test_split(X, y, test_size=0.25, random_state=48)"
   ]
  },
  {
   "cell_type": "code",
   "execution_count": 14,
   "id": "ace9feea",
   "metadata": {},
   "outputs": [
    {
     "data": {
      "text/plain": [
       "((18,), (7,), (18,), (7,))"
      ]
     },
     "execution_count": 14,
     "metadata": {},
     "output_type": "execute_result"
    }
   ],
   "source": [
    "X_train.shape, X_test.shape, y_train.shape, y_test.shape"
   ]
  },
  {
   "cell_type": "code",
   "execution_count": 15,
   "id": "9d84cd8c",
   "metadata": {},
   "outputs": [],
   "source": [
    "X_train, X_test, y_train, y_test = X_train.reshape(-1,1), X_test.reshape(-1,1), y_train.reshape(-1,1), y_test.reshape(-1,1)"
   ]
  },
  {
   "cell_type": "markdown",
   "id": "233f33ae",
   "metadata": {},
   "source": [
    "# Feature Scaling"
   ]
  },
  {
   "cell_type": "code",
   "execution_count": 16,
   "id": "afcb2703",
   "metadata": {},
   "outputs": [
    {
     "data": {
      "text/plain": [
       "array([[-0.88998953],\n",
       "       [ 1.32509552],\n",
       "       [ 0.217553  ],\n",
       "       [-1.52287097],\n",
       "       [-0.65265899],\n",
       "       [-0.45488354],\n",
       "       [ 1.56242606],\n",
       "       [ 0.77132426],\n",
       "       [-0.17799791],\n",
       "       [-0.69221408],\n",
       "       [ 0.45488354],\n",
       "       [ 1.68109133],\n",
       "       [ 1.12732007],\n",
       "       [-0.96909971],\n",
       "       [-0.57354881],\n",
       "       [-1.20643025],\n",
       "       [ 0.96909971],\n",
       "       [-0.96909971]])"
      ]
     },
     "execution_count": 16,
     "metadata": {},
     "output_type": "execute_result"
    }
   ],
   "source": [
    "from sklearn.preprocessing import StandardScaler\n",
    "sc=StandardScaler()\n",
    "sc.fit_transform(X_train, y_train)"
   ]
  },
  {
   "cell_type": "markdown",
   "id": "7d0477b9",
   "metadata": {},
   "source": [
    "# Model Training"
   ]
  },
  {
   "cell_type": "code",
   "execution_count": 17,
   "id": "532525e0",
   "metadata": {},
   "outputs": [
    {
     "data": {
      "text/plain": [
       "LinearRegression()"
      ]
     },
     "execution_count": 17,
     "metadata": {},
     "output_type": "execute_result"
    }
   ],
   "source": [
    "from sklearn.linear_model import LinearRegression\n",
    "model=LinearRegression()\n",
    "model.fit(X_train, y_train)"
   ]
  },
  {
   "cell_type": "code",
   "execution_count": 18,
   "id": "74c5b0d2",
   "metadata": {},
   "outputs": [
    {
     "name": "stdout",
     "output_type": "stream",
     "text": [
      "Model Intercept: [1.10782254]\n",
      "Model Coefficient: [[10.03433439]]\n"
     ]
    }
   ],
   "source": [
    "print('Model Intercept:', model.intercept_)\n",
    "print(\"Model Coefficient:\", model.coef_)"
   ]
  },
  {
   "cell_type": "markdown",
   "id": "7e828144",
   "metadata": {},
   "source": [
    "# Prediction"
   ]
  },
  {
   "cell_type": "code",
   "execution_count": 19,
   "id": "286bf882",
   "metadata": {},
   "outputs": [
    {
     "name": "stdout",
     "output_type": "stream",
     "text": [
      "Predicted test values [[86.39966487]\n",
      " [78.37219735]\n",
      " [49.27262762]\n",
      " [52.28292794]\n",
      " [16.15932413]\n",
      " [28.2005254 ]\n",
      " [60.31039545]]\n"
     ]
    }
   ],
   "source": [
    "ypred_test=model.predict(X_test)\n",
    "ypred_train=model.predict(X_train)\n",
    "print(\"Predicted test values\", ypred_test)"
   ]
  },
  {
   "cell_type": "code",
   "execution_count": 20,
   "id": "a2769a4f",
   "metadata": {},
   "outputs": [
    {
     "data": {
      "image/png": "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
